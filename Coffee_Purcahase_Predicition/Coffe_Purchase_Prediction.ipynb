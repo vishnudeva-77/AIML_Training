{
 "cells": [
  {
   "cell_type": "code",
   "execution_count": null,
   "id": "bf4eb86c-743c-4aac-83b1-f9329950be2c",
   "metadata": {},
   "outputs": [],
   "source": [
    "import pandas as pd"
   ]
  },
  {
   "cell_type": "code",
   "execution_count": 2,
   "id": "09370135-b4ef-43e0-8e8c-502a8e642510",
   "metadata": {},
   "outputs": [],
   "source": [
    "from sklearn.preprocessing import LabelEncoder\n",
    "from sklearn.tree import DecisionTreeClassifier, plot_tree\n",
    "import matplotlib.pyplot as plt"
   ]
  },
  {
   "cell_type": "code",
   "execution_count": 3,
   "id": "d500e0b4-4122-46e3-9891-b5209bf584ff",
   "metadata": {},
   "outputs": [],
   "source": [
    "# Dataset\n",
    "data = {\n",
    "    'Weather': ['Sunny', 'Rainy', 'Overcast', 'Sunny', 'Rainy', 'Sunny', 'Overcast', 'Rainy', 'Sunny', 'Rainy'],\n",
    "    'TimeOfDay': ['Morning', 'Morning', 'Afternoon', 'Afternoon', 'Evening', 'Morning', 'Morning', 'Afternoon', 'Evening', 'Morning'],\n",
    "    'SleepQuality': ['Poor', 'Good', 'Poor', 'Good', 'Poor', 'Good', 'Poor', 'Good', 'Good', 'Poor'],\n",
    "    'Mood': ['Tired', 'Fresh', 'Tired', 'Energetic', 'Tired', 'Fresh', 'Tired', 'Tired', 'Energetic', 'Tired'],\n",
    "    'BuyCoffee': ['Yes', 'No', 'Yes', 'No', 'Yes', 'No', 'Yes', 'Yes', 'No', 'Yes']\n",
    "}"
   ]
  },
  {
   "cell_type": "code",
   "execution_count": 4,
   "id": "2f0a3894-6c6f-4278-848f-d823327577a8",
   "metadata": {},
   "outputs": [],
   "source": [
    "df = pd.DataFrame(data)"
   ]
  },
  {
   "cell_type": "code",
   "execution_count": 5,
   "id": "ac6911cf-79a8-4b94-966f-f854504840df",
   "metadata": {},
   "outputs": [
    {
     "data": {
      "text/html": [
       "<div>\n",
       "<style scoped>\n",
       "    .dataframe tbody tr th:only-of-type {\n",
       "        vertical-align: middle;\n",
       "    }\n",
       "\n",
       "    .dataframe tbody tr th {\n",
       "        vertical-align: top;\n",
       "    }\n",
       "\n",
       "    .dataframe thead th {\n",
       "        text-align: right;\n",
       "    }\n",
       "</style>\n",
       "<table border=\"1\" class=\"dataframe\">\n",
       "  <thead>\n",
       "    <tr style=\"text-align: right;\">\n",
       "      <th></th>\n",
       "      <th>Weather</th>\n",
       "      <th>TimeOfDay</th>\n",
       "      <th>SleepQuality</th>\n",
       "      <th>Mood</th>\n",
       "      <th>BuyCoffee</th>\n",
       "    </tr>\n",
       "  </thead>\n",
       "  <tbody>\n",
       "    <tr>\n",
       "      <th>0</th>\n",
       "      <td>Sunny</td>\n",
       "      <td>Morning</td>\n",
       "      <td>Poor</td>\n",
       "      <td>Tired</td>\n",
       "      <td>Yes</td>\n",
       "    </tr>\n",
       "    <tr>\n",
       "      <th>1</th>\n",
       "      <td>Rainy</td>\n",
       "      <td>Morning</td>\n",
       "      <td>Good</td>\n",
       "      <td>Fresh</td>\n",
       "      <td>No</td>\n",
       "    </tr>\n",
       "    <tr>\n",
       "      <th>2</th>\n",
       "      <td>Overcast</td>\n",
       "      <td>Afternoon</td>\n",
       "      <td>Poor</td>\n",
       "      <td>Tired</td>\n",
       "      <td>Yes</td>\n",
       "    </tr>\n",
       "    <tr>\n",
       "      <th>3</th>\n",
       "      <td>Sunny</td>\n",
       "      <td>Afternoon</td>\n",
       "      <td>Good</td>\n",
       "      <td>Energetic</td>\n",
       "      <td>No</td>\n",
       "    </tr>\n",
       "    <tr>\n",
       "      <th>4</th>\n",
       "      <td>Rainy</td>\n",
       "      <td>Evening</td>\n",
       "      <td>Poor</td>\n",
       "      <td>Tired</td>\n",
       "      <td>Yes</td>\n",
       "    </tr>\n",
       "    <tr>\n",
       "      <th>5</th>\n",
       "      <td>Sunny</td>\n",
       "      <td>Morning</td>\n",
       "      <td>Good</td>\n",
       "      <td>Fresh</td>\n",
       "      <td>No</td>\n",
       "    </tr>\n",
       "    <tr>\n",
       "      <th>6</th>\n",
       "      <td>Overcast</td>\n",
       "      <td>Morning</td>\n",
       "      <td>Poor</td>\n",
       "      <td>Tired</td>\n",
       "      <td>Yes</td>\n",
       "    </tr>\n",
       "    <tr>\n",
       "      <th>7</th>\n",
       "      <td>Rainy</td>\n",
       "      <td>Afternoon</td>\n",
       "      <td>Good</td>\n",
       "      <td>Tired</td>\n",
       "      <td>Yes</td>\n",
       "    </tr>\n",
       "    <tr>\n",
       "      <th>8</th>\n",
       "      <td>Sunny</td>\n",
       "      <td>Evening</td>\n",
       "      <td>Good</td>\n",
       "      <td>Energetic</td>\n",
       "      <td>No</td>\n",
       "    </tr>\n",
       "    <tr>\n",
       "      <th>9</th>\n",
       "      <td>Rainy</td>\n",
       "      <td>Morning</td>\n",
       "      <td>Poor</td>\n",
       "      <td>Tired</td>\n",
       "      <td>Yes</td>\n",
       "    </tr>\n",
       "  </tbody>\n",
       "</table>\n",
       "</div>"
      ],
      "text/plain": [
       "    Weather  TimeOfDay SleepQuality       Mood BuyCoffee\n",
       "0     Sunny    Morning         Poor      Tired       Yes\n",
       "1     Rainy    Morning         Good      Fresh        No\n",
       "2  Overcast  Afternoon         Poor      Tired       Yes\n",
       "3     Sunny  Afternoon         Good  Energetic        No\n",
       "4     Rainy    Evening         Poor      Tired       Yes\n",
       "5     Sunny    Morning         Good      Fresh        No\n",
       "6  Overcast    Morning         Poor      Tired       Yes\n",
       "7     Rainy  Afternoon         Good      Tired       Yes\n",
       "8     Sunny    Evening         Good  Energetic        No\n",
       "9     Rainy    Morning         Poor      Tired       Yes"
      ]
     },
     "execution_count": 5,
     "metadata": {},
     "output_type": "execute_result"
    }
   ],
   "source": [
    "df"
   ]
  },
  {
   "cell_type": "code",
   "execution_count": 6,
   "id": "f19c2d50-e9b6-493a-9d89-d957b6024fca",
   "metadata": {},
   "outputs": [],
   "source": [
    "# Encoding\n",
    "df_encoded = df.copy()\n",
    "label_encoders = {}\n",
    "for col in df.columns:\n",
    "    le = LabelEncoder()\n",
    "    df_encoded[col] = le.fit_transform(df[col])\n",
    "    label_encoders[col] = le"
   ]
  },
  {
   "cell_type": "code",
   "execution_count": 7,
   "id": "d1b5af70-fde4-490a-b7dd-42a5b3044b3a",
   "metadata": {},
   "outputs": [],
   "source": [
    "# Split features and target\n",
    "X = df_encoded.drop('BuyCoffee', axis=1)\n",
    "y = df_encoded['BuyCoffee']"
   ]
  },
  {
   "cell_type": "code",
   "execution_count": null,
   "id": "1ea85d5c-20e5-40d8-86d3-6dc77058540d",
   "metadata": {},
   "outputs": [],
   "source": []
  }
 ],
 "metadata": {
  "kernelspec": {
   "display_name": "Python 3 (ipykernel)",
   "language": "python",
   "name": "python3"
  },
  "language_info": {
   "codemirror_mode": {
    "name": "ipython",
    "version": 3
   },
   "file_extension": ".py",
   "mimetype": "text/x-python",
   "name": "python",
   "nbconvert_exporter": "python",
   "pygments_lexer": "ipython3",
   "version": "3.9.6"
  }
 },
 "nbformat": 4,
 "nbformat_minor": 5
}
