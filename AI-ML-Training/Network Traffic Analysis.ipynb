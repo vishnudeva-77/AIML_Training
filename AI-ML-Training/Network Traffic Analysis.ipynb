{
 "cells": [
  {
   "cell_type": "code",
   "execution_count": null,
   "id": "29690ee1-31eb-4150-b8a7-24bbda9b1ba4",
   "metadata": {},
   "outputs": [],
   "source": [
    "import pyshark\n",
    "import numpy as np\n",
    "import pandas as pd"
   ]
  },
  {
   "cell_type": "code",
   "execution_count": null,
   "id": "e56edfdc-0a86-4469-bcdb-1cdf266dc5a9",
   "metadata": {},
   "outputs": [
    {
     "name": "stdout",
     "output_type": "stream",
     "text": [
      "Successfully loaded 0 packets\n"
     ]
    }
   ],
   "source": [
    "import os\n",
    "import pyshark\n",
    "\n",
    "# Use raw string (r) to handle Windows paths correctly\n",
    "pcap_file_path = r\"C:\\Users\\sarathy\\Documents\\http.cap\"\n",
    "\n",
    "# Verify file exists\n",
    "if not os.path.exists(pcap_file_path):\n",
    "    print(f\"Error: File not found at {pcap_file_path}\")\n",
    "    print(\"Please download a sample http.cap file from:\")\n",
    "    print(\"https://wiki.wireshark.org/SampleCaptures#HTTP\")\n",
    "else:\n",
    "    try:\n",
    "        cap = pyshark.FileCapture(pcap_file_path)\n",
    "        print(f'Successfully loaded {len(cap)} packets')\n",
    "    except Exception as e:\n",
    "        print(f\"Error loading pcap file: {e}\")\n",
    "        print(\"Make sure Wireshark is installed with tshark\")\n",
    "        print(\"Download from https://www.wireshark.org/download.html\")"
   ]
  },
  {
   "cell_type": "code",
   "execution_count": 7,
   "id": "e4f58d45-45de-46ca-b6e7-2c0240379096",
   "metadata": {},
   "outputs": [
    {
     "name": "stdout",
     "output_type": "stream",
     "text": [
      "No capture file loaded - please check cell 2 outputs\n"
     ]
    }
   ],
   "source": [
    "if 'cap' in locals() and cap:\n",
    "    print(\"Analyzing the first 5 packets:\")\n",
    "    try:\n",
    "        # Get first 5 packets by iterating and breaking early\n",
    "        for i, packet in enumerate(cap):\n",
    "            if i >=5:\n",
    "                break\n",
    "            print(f'\\nPacket Number: {packet.number}')\n",
    "            print(f'Packet Length: {packet.length} bytes')\n",
    "            print(f'Time: {packet.sniff_time}')\n",
    "            print(f'Highest Layer: {packet.highest_layer}')\n",
    "            \n",
    "            if hasattr(packet, 'ip'):\n",
    "                print(f'Source IP: {packet.ip.src}')\n",
    "                print(f'Destination IP: {packet.ip.dst}')\n",
    "            if hasattr(packet, 'tcp'):\n",
    "                print(f'Source Port: {packet.tcp.srcport}')\n",
    "                print(f'Destination Port: {packet.tcp.dstport}')\n",
    "    \n",
    "        # Close the capture to prevent event loop errors\n",
    "        cap.close()\n",
    "    except Exception as e:\n",
    "        print(f\"Analysis error: {e}\")\n",
    "else:\n",
    "    print(\"No capture file loaded - please check cell 2 outputs\")"
   ]
  },
  {
   "cell_type": "code",
   "execution_count": null,
   "id": "d46c6837-5b5b-4021-a654-bf2239b253bd",
   "metadata": {},
   "outputs": [],
   "source": [
    "if 'cap' in locals():\n",
    "    try:\n",
    "        print(\"\\nHTTP Requests Analysis:\")\n",
    "        http_cap = pyshark.FileCapture(pcap_file_path, display_filter='http')\n",
    "        \n",
    "        for i, packet in enumerate(http_cap):\n",
    "            print(f'\\nHTTP Packet {i+1}:')\n",
    "            print(f'Source: {packet.ip.src}:{packet[packet.transport_layer].srcport}')\n",
    "            print(f'Destination: {packet.ip.dst}:{packet[packet.transport_layer].dstport}')\n",
    "            if hasattr(packet.http, 'request_method'):\n",
    "                print(f'Method: {packet.http.request_method}')\n",
    "                print(f'URI: {packet.http.request_uri}')\n",
    "            elif hasattr(packet.http, 'response_code'):\n",
    "                print(f'Response Code: {packet.http.response_code}')\n",
    "        \n",
    "        http_cap.close()\n",
    "    except Exception as e:\n",
    "        print(f\"HTTP analysis error: {e}\")"
   ]
  },
  {
   "cell_type": "code",
   "execution_count": null,
   "id": "e17e7617-54ec-44d9-b320-0f2218dcd310",
   "metadata": {},
   "outputs": [],
   "source": [
    "if 'cap' in locals():\n",
    "    try:\n",
    "        print(\"\\nTraffic Summary:\")\n",
    "        cap = pyshark.FileCapture(pcap_file_path)\n",
    "        \n",
    "        protocols = {}\n",
    "        for packet in cap:\n",
    "            proto = packet.highest_layer\n",
    "            protocols[proto] = protocols.get(proto, 0) + 1\n",
    "        \n",
    "        print(\"\\nProtocol Distribution:\")\n",
    "        for proto, count in protocols.items():\n",
    "            print(f'{proto}: {count} packets')\n",
    "        \n",
    "        cap.close()\n",
    "    except Exception as e:\n",
    "        print(f\"Summary error: {e}\")"
   ]
  },
  {
   "cell_type": "code",
   "execution_count": null,
   "id": "7d7df344-71d3-46b3-a6f2-1b16d277bb3b",
   "metadata": {},
   "outputs": [],
   "source": []
  },
  {
   "cell_type": "code",
   "execution_count": null,
   "id": "070ca69f-39e0-4606-85f6-b6665fb20801",
   "metadata": {},
   "outputs": [],
   "source": []
  }
 ],
 "metadata": {
  "kernelspec": {
   "display_name": "Python 3 (ipykernel)",
   "language": "python",
   "name": "python3"
  },
  "language_info": {
   "codemirror_mode": {
    "name": "ipython",
    "version": 3
   },
   "file_extension": ".py",
   "mimetype": "text/x-python",
   "name": "python",
   "nbconvert_exporter": "python",
   "pygments_lexer": "ipython3",
   "version": "3.9.6"
  }
 },
 "nbformat": 4,
 "nbformat_minor": 5
}
