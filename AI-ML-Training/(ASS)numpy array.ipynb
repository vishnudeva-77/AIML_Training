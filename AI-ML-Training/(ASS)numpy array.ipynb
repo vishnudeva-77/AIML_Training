{
 "cells": [
  {
   "cell_type": "code",
   "execution_count": 1,
   "id": "5563b0cf-ef15-4fef-8d50-3e6bfb41eca4",
   "metadata": {},
   "outputs": [],
   "source": [
    "import numpy as np"
   ]
  },
  {
   "cell_type": "code",
   "execution_count": null,
   "id": "cf2f5da6-b9c0-4326-8bac-8d6ea0432b26",
   "metadata": {},
   "outputs": [],
   "source": [
    "def mark_duplicates(arr):\n",
    "    seen = set()\n",
    "    \n",
    "    result = []\n",
    "    for id in arr:\n",
    "        if id in seen:\n",
    "            result.append(True)\n",
    "        else:\n",
    "            seen.add(id)\n",
    "            result.append(False)\n",
    "    return np.array(result)"
   ]
  },
  {
   "cell_type": "code",
   "execution_count": 3,
   "id": "be2796e3-cfec-4b61-a1b1-5d75166ec201",
   "metadata": {},
   "outputs": [
    {
     "name": "stdout",
     "output_type": "stream",
     "text": [
      "Enter space-separated values:  1 0 0 3 0 2 4 2 2 2 2\n"
     ]
    },
    {
     "name": "stdout",
     "output_type": "stream",
     "text": [
      "Original IDs: [1 0 0 3 0 2 4 2 2 2 2]\n"
     ]
    }
   ],
   "source": [
    "# Example input: 1 0 0 3 0 2 4 2 2 2 2\n",
    "input_str = input(\"Enter space-separated values: \")\n",
    "input_list = list(map(int, input_str.strip().split()))\n",
    "ids = np.array(input_list)\n",
    "print(\"Original IDs:\", ids)\n"
   ]
  },
  {
   "cell_type": "code",
   "execution_count": 4,
   "id": "752b227e-3439-41b1-9915-88b3fbf3bbae",
   "metadata": {},
   "outputs": [
    {
     "name": "stdout",
     "output_type": "stream",
     "text": [
      "Duplicate Flags: [False False  True False  True False False  True  True  True  True]\n"
     ]
    }
   ],
   "source": [
    "output = mark_duplicates(ids)\n",
    "print(\"Duplicate Flags:\", output)"
   ]
  }
 ],
 "metadata": {
  "kernelspec": {
   "display_name": "Python 3 (ipykernel)",
   "language": "python",
   "name": "python3"
  },
  "language_info": {
   "codemirror_mode": {
    "name": "ipython",
    "version": 3
   },
   "file_extension": ".py",
   "mimetype": "text/x-python",
   "name": "python",
   "nbconvert_exporter": "python",
   "pygments_lexer": "ipython3",
   "version": "3.9.6"
  }
 },
 "nbformat": 4,
 "nbformat_minor": 5
}
