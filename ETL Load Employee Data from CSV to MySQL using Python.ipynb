{
 "cells": [
  {
   "cell_type": "code",
   "execution_count": 4,
   "id": "2e709858-5873-4a15-93fd-233a72e6048b",
   "metadata": {},
   "outputs": [],
   "source": [
    "import mysql.connector\n",
    "import csv\n",
    "import datetime"
   ]
  },
  {
   "cell_type": "code",
   "execution_count": 5,
   "id": "3e9589be-86e9-4e68-aa1a-eb5c366ccba6",
   "metadata": {},
   "outputs": [
    {
     "name": "stdout",
     "output_type": "stream",
     "text": [
      "MySQL connection successful: True\n"
     ]
    }
   ],
   "source": [
    "# Connect to MySQL server\n",
    "mydb = mysql.connector.connect(\n",
    "    host='localhost',\n",
    "    user='root',\n",
    "    password='Aditiyak@3821'  # Replace with your password\n",
    ")\n",
    "\n",
    "print(\"MySQL connection successful:\", mydb.is_connected())"
   ]
  },
  {
   "cell_type": "code",
   "execution_count": 6,
   "id": "0ec4bb40-f2f9-46c8-9dec-565470a9c831",
   "metadata": {},
   "outputs": [
    {
     "name": "stdout",
     "output_type": "stream",
     "text": [
      "Database and table created successfully.\n"
     ]
    }
   ],
   "source": [
    "cursor = mydb.cursor()\n",
    "\n",
    "# Create database\n",
    "cursor.execute(\"CREATE DATABASE IF NOT EXISTS employee\")\n",
    "\n",
    "# Select the new database\n",
    "cursor.execute(\"USE employee\")\n",
    "\n",
    "# Create the salary table\n",
    "cursor.execute(\"\"\"\n",
    "    CREATE TABLE IF NOT EXISTS salary (\n",
    "        empid INT,\n",
    "        firstname VARCHAR(100),\n",
    "        lastname VARCHAR(100),\n",
    "        email VARCHAR(50),\n",
    "        phone VARCHAR(15),\n",
    "        hire_date DATE,\n",
    "        job_id VARCHAR(15),\n",
    "        salary INT\n",
    "    )\n",
    "\"\"\")\n",
    "\n",
    "print(\"Database and table created successfully.\")"
   ]
  },
  {
   "cell_type": "code",
   "execution_count": null,
   "id": "42ded1d0-afd9-477d-92c5-c17b1a4fb8e8",
   "metadata": {},
   "outputs": [],
   "source": []
  }
 ],
 "metadata": {
  "kernelspec": {
   "display_name": "Python 3",
   "language": "python",
   "name": "python3"
  },
  "language_info": {
   "codemirror_mode": {
    "name": "ipython",
    "version": 3
   },
   "file_extension": ".py",
   "mimetype": "text/x-python",
   "name": "python",
   "nbconvert_exporter": "python",
   "pygments_lexer": "ipython3",
   "version": "3.13.5"
  }
 },
 "nbformat": 4,
 "nbformat_minor": 5
}
