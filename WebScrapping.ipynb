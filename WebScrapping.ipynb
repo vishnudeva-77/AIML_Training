{
 "cells": [
  {
   "cell_type": "code",
   "execution_count": 18,
   "id": "a71be3e3",
   "metadata": {},
   "outputs": [],
   "source": [
    "import requests\n",
    "from bs4 import BeautifulSoup"
   ]
  },
  {
   "cell_type": "code",
   "execution_count": 19,
   "id": "eb017422",
   "metadata": {},
   "outputs": [],
   "source": [
    "url = \"http://books.toscrape.com\""
   ]
  },
  {
   "cell_type": "code",
   "execution_count": 20,
   "id": "8ca5823c",
   "metadata": {},
   "outputs": [],
   "source": [
    "response = requests.get(url)"
   ]
  },
  {
   "cell_type": "code",
   "execution_count": 21,
   "id": "bf98717c",
   "metadata": {},
   "outputs": [],
   "source": [
    "soup = BeautifulSoup(response.text, 'html.parser')"
   ]
  },
  {
   "cell_type": "code",
   "execution_count": 22,
   "id": "4585b688",
   "metadata": {},
   "outputs": [],
   "source": [
    "books = soup.find_all('article', class_='product_pod')"
   ]
  },
  {
   "cell_type": "code",
   "execution_count": 23,
   "id": "baf57ab0",
   "metadata": {},
   "outputs": [
    {
     "name": "stdout",
     "output_type": "stream",
     "text": [
      "Title: A Light in the Attic\n",
      "Price: Â£51.77\n",
      "\n",
      "Title: Tipping the Velvet\n",
      "Price: Â£53.74\n",
      "\n",
      "Title: Soumission\n",
      "Price: Â£50.10\n",
      "\n",
      "Title: Sharp Objects\n",
      "Price: Â£47.82\n",
      "\n",
      "Title: Sapiens: A Brief History of Humankind\n",
      "Price: Â£54.23\n",
      "\n",
      "Title: The Requiem Red\n",
      "Price: Â£22.65\n",
      "\n",
      "Title: The Dirty Little Secrets of Getting Your Dream Job\n",
      "Price: Â£33.34\n",
      "\n",
      "Title: The Coming Woman: A Novel Based on the Life of the Infamous Feminist, Victoria Woodhull\n",
      "Price: Â£17.93\n",
      "\n",
      "Title: The Boys in the Boat: Nine Americans and Their Epic Quest for Gold at the 1936 Berlin Olympics\n",
      "Price: Â£22.60\n",
      "\n",
      "Title: The Black Maria\n",
      "Price: Â£52.15\n",
      "\n",
      "Title: Starving Hearts (Triangular Trade Trilogy, #1)\n",
      "Price: Â£13.99\n",
      "\n",
      "Title: Shakespeare's Sonnets\n",
      "Price: Â£20.66\n",
      "\n",
      "Title: Set Me Free\n",
      "Price: Â£17.46\n",
      "\n",
      "Title: Scott Pilgrim's Precious Little Life (Scott Pilgrim #1)\n",
      "Price: Â£52.29\n",
      "\n",
      "Title: Rip it Up and Start Again\n",
      "Price: Â£35.02\n",
      "\n",
      "Title: Our Band Could Be Your Life: Scenes from the American Indie Underground, 1981-1991\n",
      "Price: Â£57.25\n",
      "\n",
      "Title: Olio\n",
      "Price: Â£23.88\n",
      "\n",
      "Title: Mesaerion: The Best Science Fiction Stories 1800-1849\n",
      "Price: Â£37.59\n",
      "\n",
      "Title: Libertarianism for Beginners\n",
      "Price: Â£51.33\n",
      "\n",
      "Title: It's Only the Himalayas\n",
      "Price: Â£45.17\n",
      "\n"
     ]
    }
   ],
   "source": [
    "for book in books:\n",
    "    title = book.h3.a['title']\n",
    "    price = book.find('p', class_='price_color').text\n",
    "    print(f\"Title: {title}\\nPrice: {price}\\n\")"
   ]
  },
  {
   "cell_type": "code",
   "execution_count": 24,
   "id": "f1b93830",
   "metadata": {},
   "outputs": [
    {
     "name": "stdout",
     "output_type": "stream",
     "text": [
      "Title: A Light in the Attic\n",
      "Price: Â£51.77\n",
      "\n",
      "Title: Tipping the Velvet\n",
      "Price: Â£53.74\n",
      "\n",
      "Title: Soumission\n",
      "Price: Â£50.10\n",
      "\n",
      "Title: Sharp Objects\n",
      "Price: Â£47.82\n",
      "\n",
      "Title: Sapiens: A Brief History of Humankind\n",
      "Price: Â£54.23\n",
      "\n",
      "Title: The Requiem Red\n",
      "Price: Â£22.65\n",
      "\n",
      "Title: The Dirty Little Secrets of Getting Your Dream Job\n",
      "Price: Â£33.34\n",
      "\n",
      "Title: The Coming Woman: A Novel Based on the Life of the Infamous Feminist, Victoria Woodhull\n",
      "Price: Â£17.93\n",
      "\n",
      "Title: The Boys in the Boat: Nine Americans and Their Epic Quest for Gold at the 1936 Berlin Olympics\n",
      "Price: Â£22.60\n",
      "\n",
      "Title: The Black Maria\n",
      "Price: Â£52.15\n",
      "\n",
      "Title: Starving Hearts (Triangular Trade Trilogy, #1)\n",
      "Price: Â£13.99\n",
      "\n",
      "Title: Shakespeare's Sonnets\n",
      "Price: Â£20.66\n",
      "\n",
      "Title: Set Me Free\n",
      "Price: Â£17.46\n",
      "\n",
      "Title: Scott Pilgrim's Precious Little Life (Scott Pilgrim #1)\n",
      "Price: Â£52.29\n",
      "\n",
      "Title: Rip it Up and Start Again\n",
      "Price: Â£35.02\n",
      "\n",
      "Title: Our Band Could Be Your Life: Scenes from the American Indie Underground, 1981-1991\n",
      "Price: Â£57.25\n",
      "\n",
      "Title: Olio\n",
      "Price: Â£23.88\n",
      "\n",
      "Title: Mesaerion: The Best Science Fiction Stories 1800-1849\n",
      "Price: Â£37.59\n",
      "\n",
      "Title: Libertarianism for Beginners\n",
      "Price: Â£51.33\n",
      "\n",
      "Title: It's Only the Himalayas\n",
      "Price: Â£45.17\n",
      "\n"
     ]
    }
   ],
   "source": [
    "book_data = []\n",
    "books = soup.find_all('article', class_='product_pod')\n",
    "\n",
    "for book in books:\n",
    "    title = book.h3.a['title']\n",
    "    price = book.find('p', class_='price_color').text\n",
    "    print(f\"Title: {title}\\nPrice: {price}\\n\")\n",
    "    book_data.append({\"Title\": title, \"Price\": price})"
   ]
  },
  {
   "cell_type": "code",
   "execution_count": 25,
   "id": "e967a0e1",
   "metadata": {},
   "outputs": [
    {
     "name": "stdout",
     "output_type": "stream",
     "text": [
      "                                                Title    Price\n",
      "0                                A Light in the Attic  Â£51.77\n",
      "1                                  Tipping the Velvet  Â£53.74\n",
      "2                                          Soumission  Â£50.10\n",
      "3                                       Sharp Objects  Â£47.82\n",
      "4               Sapiens: A Brief History of Humankind  Â£54.23\n",
      "5                                     The Requiem Red  Â£22.65\n",
      "6   The Dirty Little Secrets of Getting Your Dream...  Â£33.34\n",
      "7   The Coming Woman: A Novel Based on the Life of...  Â£17.93\n",
      "8   The Boys in the Boat: Nine Americans and Their...  Â£22.60\n",
      "9                                     The Black Maria  Â£52.15\n",
      "10     Starving Hearts (Triangular Trade Trilogy, #1)  Â£13.99\n",
      "11                              Shakespeare's Sonnets  Â£20.66\n",
      "12                                        Set Me Free  Â£17.46\n",
      "13  Scott Pilgrim's Precious Little Life (Scott Pi...  Â£52.29\n",
      "14                          Rip it Up and Start Again  Â£35.02\n",
      "15  Our Band Could Be Your Life: Scenes from the A...  Â£57.25\n",
      "16                                               Olio  Â£23.88\n",
      "17  Mesaerion: The Best Science Fiction Stories 18...  Â£37.59\n",
      "18                       Libertarianism for Beginners  Â£51.33\n",
      "19                            It's Only the Himalayas  Â£45.17\n"
     ]
    }
   ],
   "source": [
    "import pandas as pd\n",
    "df = pd.DataFrame(book_data)\n",
    "print(df)"
   ]
  },
  {
   "cell_type": "code",
   "execution_count": 26,
   "id": "35ea27b2",
   "metadata": {},
   "outputs": [
    {
     "name": "stdout",
     "output_type": "stream",
     "text": [
      "Title: A Light in the Attic\n",
      "Price in GBP: £51.77\n",
      "Price in INR: ₹4245.14\n",
      "\n",
      "Title: Tipping the Velvet\n",
      "Price in GBP: £53.74\n",
      "Price in INR: ₹4406.68\n",
      "\n",
      "Title: Soumission\n",
      "Price in GBP: £50.10\n",
      "Price in INR: ₹4108.20\n",
      "\n",
      "Title: Sharp Objects\n",
      "Price in GBP: £47.82\n",
      "Price in INR: ₹3921.24\n",
      "\n",
      "Title: Sapiens: A Brief History of Humankind\n",
      "Price in GBP: £54.23\n",
      "Price in INR: ₹4446.86\n",
      "\n",
      "Title: The Requiem Red\n",
      "Price in GBP: £22.65\n",
      "Price in INR: ₹1857.30\n",
      "\n",
      "Title: The Dirty Little Secrets of Getting Your Dream Job\n",
      "Price in GBP: £33.34\n",
      "Price in INR: ₹2733.88\n",
      "\n",
      "Title: The Coming Woman: A Novel Based on the Life of the Infamous Feminist, Victoria Woodhull\n",
      "Price in GBP: £17.93\n",
      "Price in INR: ₹1470.26\n",
      "\n",
      "Title: The Boys in the Boat: Nine Americans and Their Epic Quest for Gold at the 1936 Berlin Olympics\n",
      "Price in GBP: £22.60\n",
      "Price in INR: ₹1853.20\n",
      "\n",
      "Title: The Black Maria\n",
      "Price in GBP: £52.15\n",
      "Price in INR: ₹4276.30\n",
      "\n",
      "Title: Starving Hearts (Triangular Trade Trilogy, #1)\n",
      "Price in GBP: £13.99\n",
      "Price in INR: ₹1147.18\n",
      "\n",
      "Title: Shakespeare's Sonnets\n",
      "Price in GBP: £20.66\n",
      "Price in INR: ₹1694.12\n",
      "\n",
      "Title: Set Me Free\n",
      "Price in GBP: £17.46\n",
      "Price in INR: ₹1431.72\n",
      "\n",
      "Title: Scott Pilgrim's Precious Little Life (Scott Pilgrim #1)\n",
      "Price in GBP: £52.29\n",
      "Price in INR: ₹4287.78\n",
      "\n",
      "Title: Rip it Up and Start Again\n",
      "Price in GBP: £35.02\n",
      "Price in INR: ₹2871.64\n",
      "\n",
      "Title: Our Band Could Be Your Life: Scenes from the American Indie Underground, 1981-1991\n",
      "Price in GBP: £57.25\n",
      "Price in INR: ₹4694.50\n",
      "\n",
      "Title: Olio\n",
      "Price in GBP: £23.88\n",
      "Price in INR: ₹1958.16\n",
      "\n",
      "Title: Mesaerion: The Best Science Fiction Stories 1800-1849\n",
      "Price in GBP: £37.59\n",
      "Price in INR: ₹3082.38\n",
      "\n",
      "Title: Libertarianism for Beginners\n",
      "Price in GBP: £51.33\n",
      "Price in INR: ₹4209.06\n",
      "\n",
      "Title: It's Only the Himalayas\n",
      "Price in GBP: £45.17\n",
      "Price in INR: ₹3703.94\n",
      "\n"
     ]
    }
   ],
   "source": [
    "book_data = []\n",
    "conversion_rate = 82  \n",
    "for book in books:\n",
    "    title = book.h3.a['title']\n",
    "    price_raw = book.find('p', class_='price_color').text\n",
    "    price_cleaned = price_raw.replace('Â', '').replace('£', '').strip()\n",
    "    price_gbp = float(price_cleaned)\n",
    "    price_inr = price_gbp * conversion_rate\n",
    "\n",
    "    print(f\"Title: {title}\\nPrice in GBP: £{price_gbp:.2f}\\nPrice in INR: ₹{price_inr:.2f}\\n\")\n",
    "    \n",
    "    book_data.append({\n",
    "        \"Title\": title,\n",
    "        \"Price in GBP\": f\"£{price_gbp:.2f}\",\n",
    "        \"Price in INR\": f\"₹{price_inr:.2f}\"\n",
    "    })\n"
   ]
  },
  {
   "cell_type": "code",
   "execution_count": 27,
   "id": "f20b811d",
   "metadata": {},
   "outputs": [
    {
     "name": "stdout",
     "output_type": "stream",
     "text": [
      "Highest Priced Book:\n",
      "Title    Our Band Could Be Your Life: Scenes from the A...\n",
      "Price                                              Â£57.25\n",
      "Name: 15, dtype: object\n"
     ]
    },
    {
     "data": {
      "image/png": "[encoded data removed]",
      "text/plain": [
       "<Figure size 1200x600 with 1 Axes>"
      ]
     },
     "metadata": {},
     "output_type": "display_data"
    }
   ],
   "source": [
    "import matplotlib.pyplot as plt\n",
    "highest = df.loc[df['Price'].idxmax()]\n",
    "print(\"Highest Priced Book:\")\n",
    "print(highest)\n",
    "\n",
    "\n",
    "plt.figure(figsize=(12, 6))\n",
    "top10 = df.sort_values(by=\"Price\", ascending=False).head(10)\n",
    "plt.barh(top10[\"Title\"], top10[\"Price\"], color='skyblue')\n",
    "plt.xlabel(\"Price (£)\")\n",
    "plt.title(\"Top 10 Most Expensive Books on Page\")\n",
    "plt.gca().invert_yaxis() \n",
    "plt.tight_layout()\n",
    "plt.show()"
   ]
  },
  {
   "cell_type": "code",
   "execution_count": null,
   "id": "8f7a6437",
   "metadata": {},
   "outputs": [],
   "source": []
  }
 ],
 "metadata": {
  "kernelspec": {
   "display_name": "Python 3",
   "language": "python",
   "name": "python3"
  },
  "language_info": {
   "codemirror_mode": {
    "name": "ipython",
    "version": 3
   },
   "file_extension": ".py",
   "mimetype": "text/x-python",
   "name": "python",
   "nbconvert_exporter": "python",
   "pygments_lexer": "ipython3",
   "version": "3.13.2"
  }
 },
 "nbformat": 4,
 "nbformat_minor": 5
}
