{
 "cells": [
  {
   "cell_type": "code",
   "execution_count": null,
   "id": "6e2622ca-bf5f-4826-92ba-73a675cc9656",
   "metadata": {},
   "outputs": [],
   "source": [
    "import pandas as pd\n",
    "from sklearn.model_selection import train_test_split\n",
    "from sklearn.preprocessing import OrdinalEncoder\n",
    "from sklearn.ensemble import RandomForestClassifier\n",
    "import pickle"
   ]
  },
  {
   "cell_type": "code",
   "execution_count": null,
   "id": "99b1f37d-1aa0-4994-ab19-406a439f9fb7",
   "metadata": {},
   "outputs": [],
   "source": [
    "# Step 1: Load the Dataset\n",
    "# Use forward slashes instead (works on all platforms)\n",
    "df = pd.read_csv('C:/Users/sarathy/AI _ML_Training/Day 9/Student_Performance/student_data.csv')"
   ]
  },
  {
   "cell_type": "code",
   "execution_count": 4,
   "id": "df76019b-befd-43f7-9317-92895a078405",
   "metadata": {},
   "outputs": [],
   "source": [
    "# Step 2: Encode Categorical Variables\n",
    "encoder = OrdinalEncoder()\n",
    "df['PreviousGrade'] = encoder.fit_transform(df[['PreviousGrade']])  # A=0, B=1, ..."
   ]
  },
  {
   "cell_type": "code",
   "execution_count": 5,
   "id": "563f2884-6642-4eea-8fa4-dca581375592",
   "metadata": {},
   "outputs": [],
   "source": [
    "# Step 3: Split into Features and Target\n",
    "X = df[['StudyHours', 'Attendance', 'PreviousGrade']]\n",
    "y = df['Performance']"
   ]
  },
  {
   "cell_type": "code",
   "execution_count": 6,
   "id": "df03846a-7bd7-4cf0-87df-d233f7ff4dc3",
   "metadata": {},
   "outputs": [],
   "source": [
    "# Step 4: Split into Train and Test Sets\n",
    "X_train, X_test, y_train, y_test = train_test_split(X, y, test_size=0.2, random_state=42)"
   ]
  },
  {
   "cell_type": "code",
   "execution_count": null,
   "id": "af081af9-a4eb-4484-bc75-5e606829fb5a",
   "metadata": {},
   "outputs": [],
   "source": [
    " #Step 5: Train Model\n",
    "model = RandomForestClassifier()\n",
    "model.fit(X_train, y_train)\n"
   ]
  }
 ],
 "metadata": {
  "kernelspec": {
   "display_name": "Python 3 (ipykernel)",
   "language": "python",
   "name": "python3"
  },
  "language_info": {
   "codemirror_mode": {
    "name": "ipython",
    "version": 3
   },
   "file_extension": ".py",
   "mimetype": "text/x-python",
   "name": "python",
   "nbconvert_exporter": "python",
   "pygments_lexer": "ipython3",
   "version": "3.9.6"
  }
 },
 "nbformat": 4,
 "nbformat_minor": 5
}
